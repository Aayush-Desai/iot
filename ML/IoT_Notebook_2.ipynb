{
  "nbformat": 4,
  "nbformat_minor": 0,
  "metadata": {
    "colab": {
      "name": "IoT Notebook 2.ipynb",
      "provenance": []
    },
    "kernelspec": {
      "name": "python3",
      "display_name": "Python 3"
    },
    "language_info": {
      "name": "python"
    }
  },
  "cells": [
    {
      "cell_type": "code",
      "metadata": {
        "id": "t4sx_Wv8ps3X"
      },
      "source": [
        "#IE407 Internet of Things Project Work\n",
        "#Names: Visaj Shah, Aayush Desai\n",
        "#IDs: 201801016, 201801060"
      ],
      "execution_count": null,
      "outputs": []
    },
    {
      "cell_type": "markdown",
      "metadata": {
        "id": "bAiEi4xbp5mU"
      },
      "source": [
        "**Project: Analyzing Water Suitability for Aquaculture**"
      ]
    },
    {
      "cell_type": "markdown",
      "metadata": {
        "id": "T6AM7KqHp9UM"
      },
      "source": [
        "**Notebook 2: KNN Implementation**"
      ]
    },
    {
      "cell_type": "code",
      "metadata": {
        "id": "sm5ghTiFqDHG"
      },
      "source": [
        "#As we saw in Notebook 1, KNN with k = 3 gives the best performance for the given dataset.\n",
        "#So, we will now build that model for the actual implementation and deployment."
      ],
      "execution_count": null,
      "outputs": []
    },
    {
      "cell_type": "code",
      "metadata": {
        "id": "jufxbATVqTRU"
      },
      "source": [
        "#Importing the required libraries\n",
        "\n",
        "import sys\n",
        "import json\n",
        "import numpy as np\n",
        "import pandas as pd\n",
        "from sklearn.neighbors import KNeighborsClassifier"
      ],
      "execution_count": null,
      "outputs": []
    },
    {
      "cell_type": "code",
      "metadata": {
        "colab": {
          "base_uri": "https://localhost:8080/"
        },
        "id": "Ur6GrdHS43FC",
        "outputId": "95d218f6-ea5e-4ea1-f3cc-375d39fcab51"
      },
      "source": [
        "#Creating the model\n",
        "\n",
        "xTrainSet = pd.read_excel('xTrainSet.xlsx')\n",
        "yTrainSet = pd.read_excel('yTrainSet.xlsx')\n",
        "\n",
        "knn = KNeighborsClassifier(n_neighbors = 3)\n",
        "knn.fit(xTrainSet, yTrainSet)"
      ],
      "execution_count": null,
      "outputs": [
        {
          "output_type": "stream",
          "text": [
            "/usr/local/lib/python3.7/dist-packages/ipykernel_launcher.py:7: DataConversionWarning: A column-vector y was passed when a 1d array was expected. Please change the shape of y to (n_samples, ), for example using ravel().\n",
            "  import sys\n"
          ],
          "name": "stderr"
        },
        {
          "output_type": "execute_result",
          "data": {
            "text/plain": [
              "KNeighborsClassifier(algorithm='auto', leaf_size=30, metric='minkowski',\n",
              "                     metric_params=None, n_jobs=None, n_neighbors=3, p=2,\n",
              "                     weights='uniform')"
            ]
          },
          "metadata": {
            "tags": []
          },
          "execution_count": 35
        }
      ]
    },
    {
      "cell_type": "code",
      "metadata": {
        "id": "EKOQ9Btztns1"
      },
      "source": [
        "#User's input\n",
        "\n",
        "dictIn = json.loads(sys.argv[1])\n",
        "\n",
        "ph = float(dictIn['ph'])\n",
        "temp30 = float(dictIn['temp1'])\n",
        "turb30 = int(dictIn['tur1'])\n",
        "temp60 = float(dictIn['temp2'])\n",
        "turb60 = int(dictIn['tur2'])\n",
        "\n",
        "userIn = [[ph, temp30, turb30, temp60, turb60]]"
      ],
      "execution_count": null,
      "outputs": []
    },
    {
      "cell_type": "code",
      "metadata": {
        "colab": {
          "base_uri": "https://localhost:8080/"
        },
        "id": "XPO4iH1W0-3V",
        "outputId": "be22edc0-bd9a-4b86-8e38-ed94651cc1b7"
      },
      "source": [
        "#Predicting for userIn\n",
        "\n",
        "yPred = knn.predict(userIn)\n",
        "print(yPred[0])"
      ],
      "execution_count": null,
      "outputs": [
        {
          "output_type": "stream",
          "text": [
            "1\n"
          ],
          "name": "stdout"
        }
      ]
    }
  ]
}