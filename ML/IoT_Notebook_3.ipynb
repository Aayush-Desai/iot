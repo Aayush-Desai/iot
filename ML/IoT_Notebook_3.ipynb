{
  "nbformat": 4,
  "nbformat_minor": 0,
  "metadata": {
    "colab": {
      "name": "IoT_Notebook_3.ipynb",
      "provenance": []
    },
    "kernelspec": {
      "name": "python3",
      "display_name": "Python 3"
    },
    "language_info": {
      "name": "python"
    }
  },
  "cells": [
    {
      "cell_type": "code",
      "metadata": {
        "id": "t4sx_Wv8ps3X"
      },
      "source": [
        "#IE407 Internet of Things Project Work\n",
        "#Names: Visaj Shah, Aayush Desai\n",
        "#IDs: 201801016, 201801060"
      ],
      "execution_count": null,
      "outputs": []
    },
    {
      "cell_type": "markdown",
      "metadata": {
        "id": "bAiEi4xbp5mU"
      },
      "source": [
        "**Project: Analyzing Water Suitability for Aquaculture**"
      ]
    },
    {
      "cell_type": "markdown",
      "metadata": {
        "id": "T6AM7KqHp9UM"
      },
      "source": [
        "**Notebook 3: AWS + KNN Implementation**"
      ]
    },
    {
      "cell_type": "code",
      "metadata": {
        "id": "sm5ghTiFqDHG"
      },
      "source": [
        "#This notebook is similar to Notebook 2 except that the dataset is directly imported from AWS server every time it is run.\n",
        "#This means the Training set and Testing set also keep changing every time."
      ],
      "execution_count": null,
      "outputs": []
    },
    {
      "cell_type": "code",
      "metadata": {
        "id": "jufxbATVqTRU"
      },
      "source": [
        "#Importing the required libraries\n",
        "\n",
        "import sys\n",
        "import json\n",
        "import numpy as np\n",
        "import pandas as pd\n",
        "from sklearn.model_selection import train_test_split\n",
        "from sklearn.neighbors import KNeighborsClassifier\n",
        "from AWSIoTPythonSDK.MQTTLib import AWSIoTMQTTClient\n",
        "import boto3"
      ],
      "execution_count": null,
      "outputs": []
    },
    {
      "cell_type": "code",
      "metadata": {
        "id": "j6r4oVLG-8PY"
      },
      "source": [
        "#User's input\n",
        "\n",
        "dictIn = json.loads(sys.argv[1])\n",
        "\n",
        "ph = float(dictIn['ph'])\n",
        "temp30 = float(dictIn['temp1'])\n",
        "turb30 = int(dictIn['tur1'])\n",
        "temp60 = float(dictIn['temp2'])\n",
        "turb60 = int(dictIn['tur2'])\n",
        "\n",
        "userIn = [[ph, temp30, turb30, temp60, turb60]]\n",
        "\n",
        "dictAWS = {}\n",
        "\n",
        "for i in dictIn.keys():\n",
        "  if i == 'ph':\n",
        "    dictAWS['ph'] = ph\n",
        "  elif i == 'temp1':\n",
        "    dictAWS['temp30'] = temp30\n",
        "  elif i == 'tur1':\n",
        "    dictAWS['turb30'] = turb30\n",
        "  elif i == 'temp2':\n",
        "    dictAWS['temp60'] = temp60\n",
        "  else:\n",
        "    dictAWS['turb60'] = turb60"
      ],
      "execution_count": null,
      "outputs": []
    },
    {
      "cell_type": "code",
      "metadata": {
        "id": "3CIE7OOv_BHI"
      },
      "source": [
        "#Connecting with the MQTT Client (on AWS)\n",
        "\n",
        "myMQTTClient = AWSIoTMQTTClient(\"lab1_thing\")\n",
        "\n",
        "myMQTTClient.configureEndpoint(\"\", )\n",
        "myMQTTClient.configureCredentials(\"\")\n",
        "\n",
        "myMQTTClient.connect()"
      ],
      "execution_count": null,
      "outputs": []
    },
    {
      "cell_type": "code",
      "metadata": {
        "colab": {
          "base_uri": "https://localhost:8080/"
        },
        "id": "Ur6GrdHS43FC",
        "outputId": "e8f18981-1abc-42db-dcb6-b35b3c1cec9e"
      },
      "source": [
        "#Creating the model\n",
        "\n",
        "client1 = boto3.client(\n",
        "    'iotanalytics',\n",
        "    region_name='us-east-2',\n",
        "    aws_access_key_id='',\n",
        "    aws_secret_access_key=''\n",
        ")\n",
        "dataset = \"project_dst\"\n",
        "dataset_url = client1.get_dataset_content(datasetName = dataset)['entries'][0]['dataURI']\n",
        "\n",
        "dataset_url = \"\"\n",
        "\n",
        "data = pd.read_csv(dataset_url)\n",
        "\n",
        "x = df[['ph', 'temp30', 'turb30', 'temp60', 'turb60']]\n",
        "y = df['class']\n",
        "\n",
        "xTrainSet, xTestSet, yTrainSet, yTestSet = train_test_split(x, y, test_size = 0.3)\n",
        "\n",
        "knn = KNeighborsClassifier(n_neighbors = 3)\n",
        "knn.fit(xTrainSet, yTrainSet)"
      ],
      "execution_count": null,
      "outputs": [
        {
          "output_type": "execute_result",
          "data": {
            "text/plain": [
              "KNeighborsClassifier(algorithm='auto', leaf_size=30, metric='minkowski',\n",
              "                     metric_params=None, n_jobs=None, n_neighbors=3, p=2,\n",
              "                     weights='uniform')"
            ]
          },
          "metadata": {
            "tags": []
          },
          "execution_count": 11
        }
      ]
    },
    {
      "cell_type": "code",
      "metadata": {
        "colab": {
          "base_uri": "https://localhost:8080/"
        },
        "id": "XPO4iH1W0-3V",
        "outputId": "be22edc0-bd9a-4b86-8e38-ed94651cc1b7"
      },
      "source": [
        "#Predicting for userIn\n",
        "\n",
        "yPred = knn.predict(userIn)\n",
        "print(yPred[0])"
      ],
      "execution_count": null,
      "outputs": [
        {
          "output_type": "stream",
          "text": [
            "1\n"
          ],
          "name": "stdout"
        }
      ]
    },
    {
      "cell_type": "code",
      "metadata": {
        "id": "F9wU6-rXXCe-"
      },
      "source": [
        "#Sending User Input and Model Output to Cloud (AWS)\n",
        "\n",
        "dictAWS['class'] = yPred[0]\n",
        "msg = json.dumps(dictAWS)\n",
        "topic = \"update/environment/dht1\"\n",
        "myMQTTClient.publish(topic, msg, 0) \n",
        "\n",
        "myMQTTClient.disconnect()"
      ],
      "execution_count": null,
      "outputs": []
    }
  ]
}